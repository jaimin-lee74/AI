{
 "cells": [
  {
   "cell_type": "markdown",
   "metadata": {},
   "source": [
    "## Quiz 1. 숫자가 짝수인지 홀수인지 판별하는 함수를 작성하세요."
   ]
  },
  {
   "cell_type": "code",
   "execution_count": null,
   "metadata": {},
   "outputs": [],
   "source": [
    "def check_even_odd(number):\n",
    "    return \"\""
   ]
  },
  {
   "cell_type": "code",
   "execution_count": null,
   "metadata": {},
   "outputs": [],
   "source": [
    "# 테스트\n",
    "print(\"1번 문제 결과:\", check_even_odd(5))  # 예상 결과: 홀수\n",
    "print(\"1번 문제 결과:\", check_even_odd(10))  # 예상 결과: 짝수"
   ]
  },
  {
   "cell_type": "markdown",
   "metadata": {},
   "source": [
    "## Quiz 2. 점수에 따라 학점을 부여하는 함수를 작성하세요.\n",
    "* 90점 이상: A\n",
    "* 80점 이상: B\n",
    "* 70점 이상: C\n",
    "* 60점 이상: D\n",
    "* 60점 미만: F"
   ]
  },
  {
   "cell_type": "code",
   "execution_count": null,
   "metadata": {},
   "outputs": [],
   "source": [
    "def get_grade(score):\n",
    "    return \"\""
   ]
  },
  {
   "cell_type": "code",
   "execution_count": null,
   "metadata": {},
   "outputs": [],
   "source": [
    "# 테스트\n",
    "print(\"2번 문제 결과:\", get_grade(85))  # 예상 결과: B"
   ]
  },
  {
   "cell_type": "markdown",
   "metadata": {},
   "source": [
    "## Quiz 3. 로그인 검증 함수를 작성하세요.\n",
    "- 아이디가 \"admin\"이고 비밀번호가 \"1234\"이면 \"로그인 성공\"\n",
    "- 아이디가 틀리면 \"아이디 오류\"\n",
    "- 아이디는 맞지만 비밀번호가 틀리면 \"비밀번호 오류\""
   ]
  },
  {
   "cell_type": "code",
   "execution_count": null,
   "metadata": {},
   "outputs": [],
   "source": [
    "def verify_login(user_id, password):\n",
    "    return \"\""
   ]
  },
  {
   "cell_type": "code",
   "execution_count": null,
   "metadata": {},
   "outputs": [],
   "source": [
    "# 테스트\n",
    "print(\"3번 문제 결과:\", verify_login(\"admin\", \"1234\"))  # 예상 결과: 로그인 성공\n",
    "print(\"3번 문제 결과:\", verify_login(\"admin\", \"wrong\"))  # 예상 결과: 비밀번호 오류"
   ]
  },
  {
   "cell_type": "markdown",
   "metadata": {},
   "source": [
    "## Quiz 4. 입장료 계산 함수를 작성하세요.\n",
    "- 나이가 8세 미만이거나 65세 이상이면 무료\n",
    "- 나이가 8세 이상 19세 이하면 할인\n",
    "- 그 외는 정상가"
   ]
  },
  {
   "cell_type": "code",
   "execution_count": null,
   "metadata": {},
   "outputs": [],
   "source": [
    "def calculate_fee(age):\n",
    "    return \"\""
   ]
  },
  {
   "cell_type": "code",
   "execution_count": null,
   "metadata": {},
   "outputs": [],
   "source": [
    "# 테스트\n",
    "print(\"4번 문제 결과:\", calculate_fee(70))  # 예상 결과: 무료"
   ]
  },
  {
   "cell_type": "markdown",
   "metadata": {},
   "source": [
    "## Quiz 5. 계절을 반환하는 함수를 작성하세요.\n",
    "- 3,4,5월: 봄\n",
    "- 6,7,8월: 여름\n",
    "- 9,10,11월: 가을\n",
    "- 12,1,2월: 겨울"
   ]
  },
  {
   "cell_type": "code",
   "execution_count": null,
   "metadata": {},
   "outputs": [],
   "source": [
    "def get_season(month):\n",
    "    return \"\""
   ]
  },
  {
   "cell_type": "code",
   "execution_count": null,
   "metadata": {},
   "outputs": [],
   "source": [
    "# 테스트\n",
    "print(\"5번 문제 결과:\", get_season(7))  # 예상 결과: 여름"
   ]
  },
  {
   "cell_type": "markdown",
   "metadata": {},
   "source": [
    "## Quiz 6. 비밀번호 강도를 검사하는 함수를 작성하세요.\n",
    "- 길이가 8자 미만이면 \"약함\"\n",
    "- 길이가 8자 이상이고 숫자를 포함하면 \"중간\"\n",
    "- 길이가 8자 이상이고 숫자와 특수문자(!@#$)를 포함하면 \"강함\""
   ]
  },
  {
   "cell_type": "code",
   "execution_count": null,
   "metadata": {},
   "outputs": [],
   "source": [
    "def check_password_strength(password):\n",
    "    return \"\""
   ]
  },
  {
   "cell_type": "code",
   "execution_count": null,
   "metadata": {},
   "outputs": [],
   "source": [
    "# 테스트\n",
    "print(\"6번 문제 결과:\", check_password_strength(\"abc123!@\"))  # 예상 결과: 강함"
   ]
  },
  {
   "cell_type": "markdown",
   "metadata": {},
   "source": [
    "## Quiz 7. 두 수의 차이를 구하되, 항상 양수로 반환하는 함수를 작성하세요."
   ]
  },
  {
   "cell_type": "code",
   "execution_count": null,
   "metadata": {},
   "outputs": [],
   "source": [
    "def get_difference(a, b):\n",
    "    return \"\""
   ]
  },
  {
   "cell_type": "code",
   "execution_count": null,
   "metadata": {},
   "outputs": [],
   "source": [
    "# 테스트\n",
    "print(\"7번 문제 결과:\", get_difference(10, 15))  # 예상 결과: 5"
   ]
  },
  {
   "cell_type": "markdown",
   "metadata": {},
   "source": [
    "## Quiz 8. BMI를 계산하고 체중 상태를 반환하는 함수를 작성하세요.\n",
    "- BMI = 체중(kg) / (신장(m) * 신장(m))\n",
    "- 18.5 미만: 저체중\n",
    "- 18.5 이상 25 미만: 정상\n",
    "- 25 이상: 과체중"
   ]
  },
  {
   "cell_type": "code",
   "execution_count": null,
   "metadata": {},
   "outputs": [],
   "source": [
    "def check_bmi(weight, height):\n",
    "    return \"\""
   ]
  },
  {
   "cell_type": "code",
   "execution_count": null,
   "metadata": {},
   "outputs": [],
   "source": [
    "# 테스트\n",
    "print(\"8번 문제 결과:\", check_bmi(70, 1.75))  # 예상 결과: 정상"
   ]
  },
  {
   "cell_type": "markdown",
   "metadata": {},
   "source": [
    "## Quiz 9. 리스트가 비어있는지 검사하고 적절한 메시지를 반환하는 함수를 작성하세요.\n",
    "- 빈 리스트: \"비어있음\"\n",
    "- 리스트에 요소가 있는 경우: \"첫 번째 요소: {첫 번째 요소값}\""
   ]
  },
  {
   "cell_type": "code",
   "execution_count": null,
   "metadata": {},
   "outputs": [],
   "source": [
    "def check_list(lst):\n",
    "    return \"\""
   ]
  },
  {
   "cell_type": "code",
   "execution_count": null,
   "metadata": {},
   "outputs": [],
   "source": [
    "# 테스트\n",
    "print(\"9번 문제 결과:\", check_list([1, 2, 3]))  # 예상 결과: 첫 번째 요소: 1\n",
    "print(\"9번 문제 결과:\", check_list([]))  # 예상 결과: 비어있음"
   ]
  },
  {
   "cell_type": "markdown",
   "metadata": {},
   "source": [
    "## Quiz 10. 구매액에 따라 등급을 분류하는 함수를 작성하세요.\n",
    "- Platinum: 월 100만원 구매\n",
    "- VIP: 월 70만원 구매\n",
    "- Gold: 월 50만원 구매\n",
    "- Silver: 월 30만원 구매\n",
    "- Bronze: 월 10만원 구매"
   ]
  },
  {
   "cell_type": "code",
   "execution_count": null,
   "metadata": {},
   "outputs": [],
   "source": [
    "def update_membership(purchase):\n",
    "    return \"\""
   ]
  },
  {
   "cell_type": "code",
   "execution_count": null,
   "metadata": {},
   "outputs": [],
   "source": [
    "# 테스트\n",
    "print(\"10번 문제 결과:\", update_membership(150))    # 예상: Platinum\n",
    "print(\"10번 문제 결과:\", update_membership(2))      # 예상: Bronze"
   ]
  }
 ],
 "metadata": {
  "kernelspec": {
   "display_name": "wanted",
   "language": "python",
   "name": "python3"
  },
  "language_info": {
   "codemirror_mode": {
    "name": "ipython",
    "version": 3
   },
   "file_extension": ".py",
   "mimetype": "text/x-python",
   "name": "python",
   "nbconvert_exporter": "python",
   "pygments_lexer": "ipython3",
   "version": "3.11.10"
  }
 },
 "nbformat": 4,
 "nbformat_minor": 2
}
